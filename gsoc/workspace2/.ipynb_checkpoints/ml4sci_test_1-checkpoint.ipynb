{
 "cells": [
  {
   "cell_type": "code",
   "execution_count": 15,
   "metadata": {
    "colab": {
     "base_uri": "https://localhost:8080/"
    },
    "id": "RT09IoANHmAZ",
    "outputId": "1910e6b6-07af-4fdc-ca8f-ff2d3773bfe3"
   },
   "outputs": [
    {
     "name": "stdout",
     "output_type": "stream",
     "text": [
      "Mounted at /content/drive\n"
     ]
    }
   ],
   "source": [
    "from google.colab import drive\n",
    "drive.mount('/content/drive')"
   ]
  },
  {
   "cell_type": "code",
   "execution_count": 27,
   "metadata": {
    "colab": {
     "base_uri": "https://localhost:8080/"
    },
    "id": "fY60a14wIHVo",
    "outputId": "df8ea290-6ca3-4b41-b6a4-bb0a5f98d774"
   },
   "outputs": [
    {
     "name": "stdout",
     "output_type": "stream",
     "text": [
      "\u001b[0m\u001b[01;34mMyDrive\u001b[0m/\n",
      "MyDrive\n"
     ]
    }
   ],
   "source": [
    "# Note, using % is a magic command in an iPy shell, i.e. using ! runs the cmd in a temporary subshell and will not permanently \n",
    "# change the working directory\n",
    "%cd \"./MyDrive\""
   ]
  },
  {
   "cell_type": "code",
   "execution_count": 32,
   "metadata": {
    "colab": {
     "base_uri": "https://localhost:8080/"
    },
    "id": "CoHHLtGLI4Yh",
    "outputId": "c4a92dd3-4ca1-425a-be40-f6eefdf12aff"
   },
   "outputs": [
    {
     "name": "stdout",
     "output_type": "stream",
     "text": [
      "/content/drive/MyDrive\n"
     ]
    }
   ],
   "source": [
    "%cd \"./MyDrive\"\n",
    "!unzip -q aset.zip -d ."
   ]
  },
  {
   "cell_type": "code",
   "execution_count": null,
   "metadata": {
    "id": "w8blfesqQRBg"
   },
   "outputs": [],
   "source": [
    "!ls \"./dataset/train/no\" "
   ]
  },
  {
   "cell_type": "code",
   "execution_count": null,
   "metadata": {
    "id": "lqL5U2xLaBAA"
   },
   "outputs": [],
   "source": [
    "import matplotlib.pyplot as plt\n",
    "import numpy as np\n",
    "import os \n",
    "import keras \n",
    "from keras import Model \n",
    "from keras.layers import Add, GlobalAveragePooling2D, Dense, Flatten, Conv2D, Lambda, Input, BatchNormalization, Activation\n",
    "from keras.optimizers import schedules, SGD\n",
    "from keras.callbacks import TensorBoard, ModelCheckpoint\n"
   ]
  },
  {
   "cell_type": "code",
   "execution_count": null,
   "metadata": {
    "id": "3iD8RrwpLUZ3"
   },
   "outputs": [],
   "source": [
    "import os, cv2\n",
    "import matplotlib.pyplot as plt\n",
    "\n",
    "data_dir = './'\n",
    "# os.list() returns the list of subfolder's name\n",
    "# sorted() rearranges the order of the list\n",
    "category_list = sorted(os.listdir(data_dir)) \n",
    "\n",
    "plt.figure(figsize=(20,10))\n",
    "for i in range(10): # we only show first 10 categories\n",
    "  img_names = sorted(os.listdir('{}/{}'.format(data_dir, category_list[i])))\n",
    "  for j in range(5): # we only show first 5 images of each category\n",
    "    img = plt.imread('{}/{}/{}'.format(data_dir, category_list[i], img_names[j])) # read the image\n",
    "    img = cv2.resize(img,(200, 200),interpolation=cv2.INTER_AREA) # resize them to the same size for convenience\n",
    "    plt.subplot(5, 10, 10*j+i+1) # plot the same category at the same column\n",
    "    plt.imshow(img)\n",
    "    plt.axis('off')\n",
    "    if j == 0: # only show category name at the first row\n",
    "      plt.title(category_list[i])\n",
    "plt.show()\n"
   ]
  },
  {
   "cell_type": "code",
   "execution_count": null,
   "metadata": {
    "id": "3U0LdQAKZaQm"
   },
   "outputs": [],
   "source": [
    "# ResNet classifcation \n",
    "def model_configuration():\n",
    "  # get configuration variables for the model \n",
    "\n",
    "  #load dataset for computing dataset size \n",
    "  (input_train, _), (_,_) = load_dataset()\n",
    "\n",
    "  #Generic configuration "
   ]
  }
 ],
 "metadata": {
  "colab": {
   "provenance": []
  },
  "kernelspec": {
   "display_name": "Python 3",
   "name": "python3"
  },
  "language_info": {
   "name": "python"
  }
 },
 "nbformat": 4,
 "nbformat_minor": 0
}
